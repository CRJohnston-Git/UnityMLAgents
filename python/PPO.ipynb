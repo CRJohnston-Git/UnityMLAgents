{
 "cells": [
  {
   "cell_type": "markdown",
   "metadata": {},
   "source": [
    "# Unity ML Agents\n",
    "## Proximal Policy Optimization (PPO)\n",
    "Contains an implementation of PPO as described [here](https://arxiv.org/abs/1707.06347)."
   ]
  },
  {
   "cell_type": "code",
   "execution_count": 1,
   "metadata": {
    "collapsed": true
   },
   "outputs": [],
   "source": [
    "import numpy as np\n",
    "import os\n",
    "import tensorflow as tf\n",
    "\n",
    "from ppo.history import *\n",
    "from ppo.models import *\n",
    "from ppo.trainer import Trainer\n",
    "from unityagents import *"
   ]
  },
  {
   "cell_type": "markdown",
   "metadata": {},
   "source": [
    "### Hyperparameters"
   ]
  },
  {
   "cell_type": "code",
   "execution_count": 2,
   "metadata": {
    "collapsed": true
   },
   "outputs": [],
   "source": [
    "### General parameters\n",
    "max_steps = 8e6 # Set maximum number of steps to run environment.\n",
    "run_path = \"ppo\" # The sub-directory name for model and summary statistics\n",
    "load_model = False # Whether to load a saved model.\n",
    "train_model = True # Whether to train the model.\n",
    "summary_freq = 10000 # Frequency at which to save training statistics.\n",
    "save_freq = 50000 # Frequency at which to save model.\n",
    "env_name = \"runner\" # Name of the training environment file.\n",
    "\n",
    "### Algorithm-specific parameters for tuning\n",
    "gamma = 0.99 # Reward discount rate.\n",
    "lambd = 0.95 # Lambda parameter for GAE.\n",
    "time_horizon = 2048 # How many steps to collect per agent before adding to buffer.\n",
    "beta = 1e-3 # Strength of entropy regularization\n",
    "num_epoch = 5 # Number of gradient descent steps per batch of experiences.\n",
    "epsilon = 0.2 # Acceptable threshold around ratio of old and new policy probabilities.\n",
    "buffer_size = 2048 # How large the experience buffer should be before gradient descent.\n",
    "learning_rate = 3e-4 # Model learning rate.\n",
    "hidden_units = 16 # Number of units in hidden layer.\n",
    "batch_size = 64 # How many experiences per gradient descent update step."
   ]
  },
  {
   "cell_type": "markdown",
   "metadata": {},
   "source": [
    "### Load the environment"
   ]
  },
  {
   "cell_type": "code",
   "execution_count": null,
   "metadata": {},
   "outputs": [
    {
     "name": "stderr",
     "output_type": "stream",
     "text": [
      "INFO:unityagents.environment:\n",
      "'Academy' started successfully!\n"
     ]
    },
    {
     "name": "stdout",
     "output_type": "stream",
     "text": [
      "Unity Academy name: Academy\n",
      "        Number of brains: 1\n",
      "        Reset Parameters :\n",
      "\t\t\n",
      "Unity brain name: DefaultBrain\n",
      "        Number of observations (per agent): 0\n",
      "        State space type: continuous\n",
      "        State space size (per agent): 6\n",
      "        Action space type: discrete\n",
      "        Action space size (per agent): 2\n",
      "        Memory space size (per agent): 0\n",
      "        Action descriptions: NotJump, Jump\n"
     ]
    }
   ],
   "source": [
    "env = UnityEnvironment(file_name=env_name)\n",
    "print(str(env))\n",
    "brain_name = env.brain_names[0]"
   ]
  },
  {
   "cell_type": "markdown",
   "metadata": {},
   "source": [
    "### Train the Agent(s)"
   ]
  },
  {
   "cell_type": "code",
   "execution_count": null,
   "metadata": {
    "scrolled": true
   },
   "outputs": [
    {
     "name": "stdout",
     "output_type": "stream",
     "text": [
      "Mean Reward: 4.313465747506245\n",
      "Mean Reward: 4.418579384105109\n",
      "Mean Reward: 4.978424068948478\n",
      "Mean Reward: 4.646686222869818\n",
      "Mean Reward: 4.64093550592631\n",
      "Saved Model\n",
      "Mean Reward: 4.282608538921191\n",
      "Mean Reward: 4.474916043695526\n",
      "Mean Reward: 4.55291412146228\n",
      "Mean Reward: 4.51902282474942\n",
      "Mean Reward: 4.648470419782347\n",
      "Saved Model\n",
      "Mean Reward: 4.428045812117811\n",
      "Mean Reward: 4.59959521017745\n",
      "Mean Reward: 4.8186824643329285\n",
      "Mean Reward: 4.2340759324624955\n",
      "Mean Reward: 3.5058792547602984\n",
      "Saved Model\n",
      "Mean Reward: 3.0233979195388323\n",
      "Mean Reward: 2.7623111855518845\n",
      "Mean Reward: 2.838878370364951\n",
      "Mean Reward: 2.8658935796681138\n",
      "Mean Reward: 3.0646340075653637\n",
      "Saved Model\n",
      "Mean Reward: 2.849444313146757\n",
      "Mean Reward: 2.745131456698682\n",
      "Mean Reward: 3.182877227017922\n",
      "Mean Reward: 2.8588494338044224\n",
      "Mean Reward: 3.202070365926429\n",
      "Saved Model\n",
      "Mean Reward: 3.1276822877630877\n",
      "Mean Reward: 2.1291602002469454\n",
      "Mean Reward: 1.8453683250291217\n",
      "Mean Reward: 1.9300688734582747\n",
      "Mean Reward: 1.9775431592737014\n",
      "Saved Model\n",
      "Mean Reward: 2.354725178499632\n",
      "Mean Reward: 2.105930944411723\n",
      "Mean Reward: 2.4496440384423477\n",
      "Mean Reward: 2.1325346325906236\n",
      "Mean Reward: 2.2138774649438764\n",
      "Saved Model\n",
      "Mean Reward: 1.7222822058573564\n",
      "Mean Reward: 1.617011423021551\n",
      "Mean Reward: 1.8355150782772722\n",
      "Mean Reward: 1.6358063876690854\n",
      "Mean Reward: 1.6151052025468415\n",
      "Saved Model\n",
      "Mean Reward: 1.7853742707593574\n",
      "Mean Reward: 1.7793783165259454\n",
      "Mean Reward: 1.9867499390474992\n",
      "Mean Reward: 1.7144946197058504\n",
      "Mean Reward: 1.9245027011535907\n",
      "Saved Model\n",
      "Mean Reward: 1.7135658350395344\n",
      "Mean Reward: 2.0371352223891237\n",
      "Mean Reward: 1.956837992682776\n",
      "Mean Reward: 2.037936453015343\n",
      "Mean Reward: 1.8961124787769819\n",
      "Saved Model\n",
      "Mean Reward: 1.835315485872087\n",
      "Mean Reward: 2.1177061345365975\n",
      "Mean Reward: 1.8886460353610448\n",
      "Mean Reward: 2.070447017405882\n",
      "Mean Reward: 2.15040959672506\n",
      "Saved Model\n",
      "Mean Reward: 2.1827535804113523\n",
      "Mean Reward: 2.0230504190128435\n",
      "Mean Reward: 2.0774999576211903\n",
      "Mean Reward: 2.051358272400702\n",
      "Mean Reward: 2.183176431668941\n",
      "Saved Model\n"
     ]
    }
   ],
   "source": [
    "tf.reset_default_graph()\n",
    "\n",
    "# Create the Tensorflow model graph\n",
    "ppo_model = create_agent_model(env, lr=learning_rate,\n",
    "                               h_size=hidden_units, epsilon=epsilon,\n",
    "                               beta=beta, max_step=max_steps)\n",
    "\n",
    "is_continuous = (env.brains[brain_name].action_space_type == \"continuous\")\n",
    "use_observations = (env.brains[brain_name].number_observations > 0)\n",
    "use_states = (env.brains[brain_name].state_space_size > 0)\n",
    "\n",
    "model_path = './models/{}'.format(run_path)\n",
    "summary_path = './summaries/{}'.format(run_path)\n",
    "\n",
    "if not os.path.exists(model_path):\n",
    "    os.makedirs(model_path)\n",
    "\n",
    "if not os.path.exists(summary_path):\n",
    "    os.makedirs(summary_path)\n",
    "\n",
    "init = tf.global_variables_initializer()\n",
    "saver = tf.train.Saver()\n",
    "\n",
    "with tf.Session() as sess:\n",
    "    # Instantiate model parameters\n",
    "    if load_model:\n",
    "        print('Loading Model...')\n",
    "        ckpt = tf.train.get_checkpoint_state(model_path)\n",
    "        saver.restore(sess, ckpt.model_checkpoint_path)\n",
    "    else:\n",
    "        sess.run(init)\n",
    "    steps = sess.run(ppo_model.global_step)\n",
    "    summary_writer = tf.summary.FileWriter(summary_path)\n",
    "    info = env.reset(train_mode=train_model)[brain_name]\n",
    "    trainer = Trainer(ppo_model, sess, info, is_continuous, use_observations, use_states)\n",
    "    while steps <= max_steps:\n",
    "        if env.global_done:\n",
    "            info = env.reset(train_mode=train_model)[brain_name]\n",
    "        # Decide and take an action\n",
    "        new_info = trainer.take_action(info, env, brain_name)\n",
    "        info = new_info\n",
    "        trainer.process_experiences(info, time_horizon, gamma, lambd)\n",
    "        if len(trainer.training_buffer['actions']) > buffer_size and train_model:\n",
    "            # Perform gradient descent with experience buffer\n",
    "            trainer.update_model(batch_size, num_epoch)\n",
    "        if steps % summary_freq == 0 and steps != 0 and train_model:\n",
    "            # Write training statistics to tensorboard.\n",
    "            trainer.write_summary(summary_writer, steps)\n",
    "        if steps % save_freq == 0 and steps != 0 and train_model:\n",
    "            # Save Tensorflow model\n",
    "            save_model(sess, model_path=model_path, steps=steps, saver=saver)\n",
    "        steps += 1\n",
    "        sess.run(ppo_model.increment_step)\n",
    "    # Final save Tensorflow model\n",
    "    if steps != 0 and train_model:\n",
    "        save_model(sess, model_path=model_path, steps=steps, saver=saver)\n",
    "env.close()\n",
    "export_graph(model_path, env_name)"
   ]
  },
  {
   "cell_type": "markdown",
   "metadata": {},
   "source": [
    "### Export the trained Tensorflow graph\n",
    "Once the model has been trained and saved, we can export it as a .bytes file which Unity can embed."
   ]
  },
  {
   "cell_type": "code",
   "execution_count": null,
   "metadata": {
    "collapsed": true
   },
   "outputs": [],
   "source": [
    "export_graph(model_path, env_name)"
   ]
  },
  {
   "cell_type": "code",
   "execution_count": null,
   "metadata": {
    "collapsed": true
   },
   "outputs": [],
   "source": []
  }
 ],
 "metadata": {
  "anaconda-cloud": {},
  "kernelspec": {
   "display_name": "Python 3",
   "language": "python",
   "name": "python3"
  },
  "language_info": {
   "codemirror_mode": {
    "name": "ipython",
    "version": 3
   },
   "file_extension": ".py",
   "mimetype": "text/x-python",
   "name": "python",
   "nbconvert_exporter": "python",
   "pygments_lexer": "ipython3",
   "version": "3.6.1"
  }
 },
 "nbformat": 4,
 "nbformat_minor": 1
}
